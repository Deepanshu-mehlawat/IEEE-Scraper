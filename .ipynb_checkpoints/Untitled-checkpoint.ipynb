{
 "cells": [
  {
   "cell_type": "code",
   "execution_count": 4,
   "id": "e530e845-c3ba-4504-93b6-5c5e3605d37a",
   "metadata": {},
   "outputs": [
    {
     "name": "stdout",
     "output_type": "stream",
     "text": [
      "b'<html><head><title>Request Rejected</title></head><body>The requested URL was rejected. Please consu'\n"
     ]
    }
   ],
   "source": [
    "import requests\n",
    "url = \"https://ieeexplore.ieee.org/document/9121420\"\n",
    "html = requests.get(url)\n",
    "print(html.content[:100])"
   ]
  },
  {
   "cell_type": "code",
   "execution_count": 5,
   "id": "7f87e8d5-ea46-4d0e-a4fb-648ef6bea6d1",
   "metadata": {},
   "outputs": [
    {
     "name": "stdout",
     "output_type": "stream",
     "text": [
      "b\"<html><head><title>Request Rejected</title></head><body>The requested URL was rejected. Please consult with your administrator.<br><br>Your support ID is: < 8203162008320842164><br><br><a href='javascript:history.back();'>[Go Back]</body></html>\"\n"
     ]
    }
   ],
   "source": [
    "print(html.content)"
   ]
  },
  {
   "cell_type": "code",
   "execution_count": 8,
   "id": "c347735c-6fcc-4129-84de-27459d5169b0",
   "metadata": {},
   "outputs": [],
   "source": [
    "headers = {\n",
    "    \"User-Agent\": \"Mozilla/5.0 (Windows NT 10.0; Win64; x64) AppleWebKit/537.36 (KHTML, like Gecko) Chrome/112.0.5615.138 Safari/537.36\",\n",
    "    \"Accept-Language\": \"en-US,en;q=0.9\",\n",
    "    \"Accept\": \"text/html,application/xhtml+xml,application/xml;q=0.9,image/webp,*/*;q=0.8\",\n",
    "    \"Connection\": \"keep-alive\",\n",
    "}\n",
    "html = requests.get(url, headers=headers)"
   ]
  },
  {
   "cell_type": "code",
   "execution_count": 9,
   "id": "090a3e75-43a1-4742-ba4f-7886d6180e2d",
   "metadata": {},
   "outputs": [],
   "source": [
    "from bs4 import BeautifulSoup\n",
    "\n",
    "soup = BeautifulSoup(html.content, 'html.parser')"
   ]
  },
  {
   "cell_type": "code",
   "execution_count": 27,
   "id": "8170b032-5246-467d-aab6-be2253f6be8d",
   "metadata": {},
   "outputs": [
    {
     "name": "stdout",
     "output_type": "stream",
     "text": [
      "Extracted text: [<meta content=\"This paper considers the impact of money and time on the charging satisfaction of electric taxi users, considering the taxi passenger revenue and time-of-use price in different time, aiming at the highest user satisfaction of unit electricity, proposes a recommended strategy for the best charging time and charging location. Firstly, the unit time revenue of taxi users is calculated according to the passenger capacity. Secondly, the time cost and power cost are calculated according to the charging queue time, charging time, user time revenue, demand power and time-of-use price. The optimal charging time is calculated according to the minimum unit electricity cost. Then, when choosing the charging station, the driving time, queuing time, charging time and unit time revenue are taken into account to calculate the time cost, and the power demand and charging price are taken into account to calculate the power cost. In addition, the impact of charging time on user satisfaction is considered. Finally, the best charging location is recommended with the highest user satisfaction of unit electricity. The simulation results show that the proposed charging recommendation strategy can reduce the unit electricity cost of electric taxi users, improve the charging satisfaction of users, and verify the effectiveness of the proposed method.\" property=\"og:description\"/>]\n"
     ]
    }
   ],
   "source": [
    "meta_tag = soup.find_all(\"meta\", {\"property\": \"og:title\",\"property\":\"og:description\"})\n",
    "\n",
    "if meta_tag:\n",
    "    print(\"Extracted text:\", meta_tag)  # Get the text content of the element\n",
    "else:\n",
    "    print(\"Element not found\")"
   ]
  },
  {
   "cell_type": "code",
   "execution_count": 30,
   "id": "325ee0c0-caeb-40ab-a38b-9de0ff54358d",
   "metadata": {},
   "outputs": [
    {
     "name": "stdout",
     "output_type": "stream",
     "text": [
      "Extracted Metadata: {'userInfo': {'institute': False, 'member': False, 'individual': False, 'guest': False, 'subscribedContent': False, 'fileCabinetContent': False, 'fileCabinetUser': False, 'institutionalFileCabinetUser': False, 'showPatentCitations': True, 'showGet802Link': False, 'showOpenUrlLink': False, 'tracked': False, 'delegatedAdmin': False, 'desktop': False, 'isInstitutionDashboardEnabled': False, 'isInstitutionProfileEnabled': False, 'isRoamingEnabled': False, 'isDelegatedAdmin': False, 'isMdl': False, 'isCwg': False, 'isReadAndPublish': False, 'isIel': False, 'isAcademic': False}, 'authors': [{'name': 'Jing Zhang', 'affiliation': ['Beijing Engineering Technology Research Center of Electric Vehicle Charging/Battery Swap, China Electric Power Research Institute Co., Ltd., Beijing, China'], 'firstName': 'Jing', 'lastName': 'Zhang', 'id': '38666856800'}, {'name': 'Taoyong Li', 'affiliation': ['Beijing Engineering Technology Research Center of Electric Vehicle Charging/Battery Swap, China Electric Power Research Institute Co., Ltd., Beijing, China'], 'firstName': 'Taoyong', 'lastName': 'Li', 'id': '37086330862'}, {'name': 'Aiqiang Pan', 'affiliation': ['Urban Energy Internet Research Center Electric Power Research Institute of State Grid, Shanghai Electric Power Company, Shanghai, China'], 'firstName': 'Aiqiang', 'lastName': 'Pan', 'id': '37085348623'}, {'name': 'Xuemei Long', 'affiliation': ['School of Electrical Engineering and Automation, Wuhan University, Hubei, China'], 'firstName': 'Xuemei', 'lastName': 'Long', 'id': '37086576233'}, {'name': 'Linru Jiang', 'affiliation': ['Beijing Engineering Technology Research Center of Electric Vehicle Charging/Battery Swap, China Electric Power Research Institute Co., Ltd., Beijing, China'], 'firstName': 'Linru', 'lastName': 'Jiang', 'id': '37086569021'}, {'name': 'Zhe Liu', 'affiliation': ['Urban Energy Internet Research Center Electric Power Research Institute of State Grid, Shanghai Electric Power Company, Shanghai, China'], 'firstName': 'Zhe', 'lastName': 'Liu', 'id': '37088424811'}, {'name': 'Yuanxing Zhang', 'affiliation': ['Beijing Engineering Technology Research Center of Electric Vehicle Charging/Battery Swap, China Electric Power Research Institute Co., Ltd., Beijing, China'], 'firstName': 'Yuanxing', 'lastName': 'Zhang', 'id': '37086570655'}], 'isbn': [{'format': 'Electronic ISBN', 'value': '978-1-7281-6782-4', 'isbnType': ''}, {'format': 'USB ISBN', 'value': '978-1-7281-6781-7', 'isbnType': ''}, {'format': 'Print on Demand(PoD) ISBN', 'value': '978-1-7281-6783-1', 'isbnType': ''}], 'articleNumber': '9121420', 'mediaPath': '/mediastore/IEEE/content/media/9119348/9121343/9121420', 'dbTime': '2 ms', 'metrics': {'wosCitationCount': 0, 'citationCountPaper': 8, 'citationCountPatent': 0, 'totalDownloads': 551}, 'purchaseOptions': {'showOtherFormatPricingTab': False, 'showPdfFormatPricingTab': True, 'pdfPricingInfoAvailable': True, 'otherPricingInfoAvailable': False, 'mandatoryBundle': False, 'optionalBundle': False, 'displayTextWhenOtherFormatPricingNotAvailable': \"The purchase and pricing options for this item are unavailable. Select items are only available as part of a subscription package. You may try again later or <a href='https://ieeexplore.ieee.org/xpl/contact' target='_blank'>contact us</a> for more information.\", 'pdfPricingInfo': [{'memberPrice': '$14.95', 'nonMemberPrice': '$33.00', 'partNumber': '9121420', 'type': 'PDF/HTML'}]}, 'getProgramTermsAccepted': False, 'sections': {'abstract': 'true', 'authors': 'true', 'figures': 'true', 'multimedia': 'false', 'references': 'true', 'citedby': 'true', 'keywords': 'true', 'definitions': 'false', 'algorithm': 'false', 'dataset': 'false', 'cadmore': 'false', 'footnotes': 'false', 'disclaimer': 'false', 'relatedContent': 'false', 'metrics': 'true'}, 'abstract': 'This paper considers the impact of money and time on the charging satisfaction of electric taxi users, considering the taxi passenger revenue and time-of-use price in different time, aiming at the highest user satisfaction of unit electricity, proposes a recommended strategy for the best charging time and charging location. Firstly, the unit time revenue of taxi users is calculated according to the passenger capacity. Secondly, the time cost and power cost are calculated according to the charging queue time, charging time, user time revenue, demand power and time-of-use price. The optimal charging time is calculated according to the minimum unit electricity cost. Then, when choosing the charging station, the driving time, queuing time, charging time and unit time revenue are taken into account to calculate the time cost, and the power demand and charging price are taken into account to calculate the power cost. In addition, the impact of charging time on user satisfaction is considered. Finally, the best charging location is recommended with the highest user satisfaction of unit electricity. The simulation results show that the proposed charging recommendation strategy can reduce the unit electricity cost of electric taxi users, improve the charging satisfaction of users, and verify the effectiveness of the proposed method.', 'pdfPath': '/iel7/9119348/9121343/09121420.pdf', 'doi': '10.1109/AEEES48850.2020.9121420', 'publicationDate': 'May 2020', 'publicationYear': '2020', 'pdfUrl': '/stamp/stamp.jsp?tp=&arnumber=9121420', 'displayPublicationTitle': '2020 Asia Energy and Electrical Engineering Symposium (AEEES)', 'publicationTitle': '2020 Asia Energy and Electrical Engineering Symposium (AEEES)', 'formulaStrippedArticleTitle': 'Charging Time and Location Recommendation Strategy Considering Taxi User Satisfaction', 'endPage': '264', 'startPage': '257', 'keywords': [{'type': 'IEEE Keywords', 'kwd': ['Electrical engineering', 'Costs', 'Power demand', 'Simulation', 'Customer satisfaction', 'Charging stations', 'Space charge']}, {'type': 'Index Terms', 'kwd': ['User Satisfaction', 'Charging Time', 'Recommendations For Strategies', 'Time Cost', 'State Of Charge', 'Electric Vehicles', 'Impact Of Time', 'Power Demand', 'Local Charge', 'User Cost', 'Highest Satisfaction', 'Queuing Time', 'Power Consumption', 'Electric Power', 'Distribution Network', 'Road Network', 'Even Number', 'Lowest Cost', 'Electric Company', 'Recommender Systems', 'Electric Vehicles Charging', 'Urban Network', 'Battery Capacity', 'Taxi Drivers', 'Department Of Transportation', 'Time Of Vehicles', 'Traffic Distribution']}, {'type': 'Author Keywords', 'kwd': ['electric vehicle', 'charging time recommendation', 'charging location recommendation', 'user satisfaction']}], 'issueLink': '/xpl/tocresult.jsp?isnumber=9121343&punumber=9119348', 'pubLink': '/xpl/conhome/9119348/proceeding', 'allowComments': False, 'dateOfInsertion': '19 June 2020', 'articleCopyRight': '2020 IEEE', 'rightsLink': 'http://s100.copyright.com/AppDispatchServlet?publisherName=ieee&publication=proceedings&title=Charging+Time+and+Location+Recommendation+Strategy+Considering+Taxi+User+Satisfaction&isbn=978-1-7281-6782-4&publicationDate=May+2020&author=Jing+Zhang&ContentID=10.1109/AEEES48850.2020.9121420&orderBeanReset=true&startPage=257&endPage=264&proceedingName=2020+Asia+Energy+and+Electrical+Engineering+Symposium+%28AEEES%29', 'displayPublicationDate': '29-31 May 2020', 'authorNames': 'Jing Zhang;Taoyong Li;Aiqiang Pan;Xuemei Long;Linru Jiang;Zhe Liu;Yuanxing Zhang', 'doiLink': 'https://doi.org/10.1109/AEEES48850.2020.9121420', 'isGetAddressInfoCaptured': False, 'isMarketingOptIn': False, 'pubTopics': [{'name': 'Power, Energy and Industry Applications'}], 'publisher': 'IEEE', 'isChapter': False, 'isProduct': False, 'isStandard': False, 'isDynamicHtml': True, 'xploreDocumentType': 'Conference Publication', 'isEarlyAccess': False, 'isOpenAccess': False, 'isEphemera': False, 'isConference': True, 'isBook': False, 'isFreeDocument': False, 'isSpringer': False, 'isPromo': False, 'isBookWithoutChapters': False, 'isJournal': False, 'isOnlineOnly': False, 'hasStandardVersions': False, 'isSMPTE': False, 'isCustomDenial': False, 'htmlAbstractLink': '/document/9121420/', 'persistentLink': 'https://ieeexplore.ieee.org/servlet/opac?punumber=9119348', 'isNow': False, 'isDegruyter': False, 'htmlLink': '/document/9121420/', 'isLatestStandard': False, 'isGiveaway': False, 'isTranslation': False, 'isSAE': False, 'isOUP': False, 'displayDocTitle': 'Charging Time and Location Recommendation Strategy Considering Taxi User Satisfaction', 'openAccessFlag': 'F', 'insertDate': '19 June 2020', 'ephemeraFlag': 'false', 'title': 'Charging Time and Location Recommendation Strategy Considering Taxi User Satisfaction', 'confLoc': 'Chengdu, China', 'html_flag': 'false', 'ml_html_flag': 'true', 'sourcePdf': 'IEEE-055.pdf', 'mlTime': 'PT0.029339S', 'xplore-pub-id': '9119348', 'isNumber': '9121343', 'rightsLinkFlag': '1', 'contentType': 'conferences', 'publicationNumber': '9119348', 'citationCount': '8', 'xplore-issue': '9121343', 'articleId': '9121420', 'contentTypeDisplay': 'Conferences', 'referenceCount': 13, 'subType': 'IEEE Conference', '_value': 'IEEE', 'lastupdate': '2025-01-23'}\n"
     ]
    }
   ],
   "source": [
    "import re,json\n",
    "\n",
    "script_tag = soup.find(\"script\", string=re.compile(r\"xplGlobal\\.document\\.metadata\"))\n",
    "\n",
    "if script_tag:\n",
    "    # Extract the JavaScript code as text\n",
    "    script_content = script_tag.string\n",
    "\n",
    "    # Use regex to extract the metadata JSON string\n",
    "    metadata_match = re.search(r\"xplGlobal\\.document\\.metadata\\s*=\\s*(\\{.*?\\});\", script_content, re.DOTALL)\n",
    "\n",
    "    if metadata_match:\n",
    "        # Get the JSON string\n",
    "        metadata_json = metadata_match.group(1)\n",
    "\n",
    "        # Parse the JSON string into a Python dictionary\n",
    "        metadata = json.loads(metadata_json)\n",
    "        print(\"Extracted Metadata:\", metadata)\n",
    "    else:\n",
    "        print(\"Metadata not found in the script\")\n",
    "else:\n",
    "    print(\"Script tag containing metadata not found\")"
   ]
  },
  {
   "cell_type": "code",
   "execution_count": 31,
   "id": "9d5b9e50-c083-4622-a700-f3efb8b30986",
   "metadata": {},
   "outputs": [],
   "source": [
    "with open(\"metadata.json\", \"w\", encoding=\"utf-8\") as json_file:\n",
    "    json.dump(metadata, json_file, indent=4, ensure_ascii=False)"
   ]
  },
  {
   "cell_type": "code",
   "execution_count": 33,
   "id": "ecb1b488-3170-4bb7-90ae-a64985751b56",
   "metadata": {},
   "outputs": [
    {
     "name": "stdout",
     "output_type": "stream",
     "text": [
      "Response received successfully:\n",
      "Failed to parse JSON response\n"
     ]
    }
   ],
   "source": [
    "import requests\n",
    "import json\n",
    "\n",
    "# Start a session\n",
    "session = requests.Session()\n",
    "\n",
    "# URL for the POST request\n",
    "url = \"https://ieeexplore.ieee.org/rest/search\"\n",
    "\n",
    "# Headers to mimic a browser request\n",
    "headers = {\n",
    "    \"Content-Type\": \"application/json\",\n",
    "    \"User-Agent\": \"Mozilla/5.0 (Windows NT 10.0; Win64; x64) AppleWebKit/537.36 (KHTML, like Gecko) Chrome/112.0.5615.138 Safari/537.36\",\n",
    "    \"cookie\": \"hum_ieee_visitor=d925890c-8af9-4424-9f0c-357ede383146; hum_ieee_synced=true; s_ecid=MCMID%7C46644538782537441492818869985903455545; _cc_id=91a135c545c53c0ef34500fe79aa3e60; fp=a61ebdaf31749dab49045e75cda8d821; osano_consentmanager_uuid=bce4123f-0b2d-4d55-80b3-cd275a55cfa6; _zitok=933f1d4def48af181e321728883815; osano_consentmanager=baO_Wk8e2WvVQVzU6_NPejIBgx2yP82NzJ4BMrHxgCDOFCQAT2UvI-or-k3s7gW5N4KEzGc5igYOY0_GnJ-C37F_GQUBSowUfOm009gq03ujnHVPgfTjpeDSYkO-lC8VNemTTBuPFP6m01t9e5_2bY9kMqElJbGmRN3Z1eBwwz4YhmJjjSn6Q2JDRCb4KIbV34NfXbs3Bn0Ju8doAATclqGp4D5zzgvgtsZlzQpuJPozSMXiWbhdSCxl7rMtpfLHkSM2lDEQ-hAtvJB0FExDiRMNgcqcmWgq1Ry8i1BP5fImNo5jaeXHOyI3UtOA6p2xKYsprn7x8C4=; AWSALBAPP-1=_remove_; AWSALBAPP-2=_remove_; AWSALBAPP-3=_remove_; WLSESSION=385970698.47873.0000; AMCVS_8E929CC25A1FB2B30A495C97%40AdobeOrg=1; AMCV_8E929CC25A1FB2B30A495C97%40AdobeOrg=359503849%7CMCMID%7C46644538782537441492818869985903455545%7CMCIDTS%7C20116%7CMCAID%7CNONE%7CMCOPTOUT-1737996334s%7CNONE%7CMCAAMLH-1738593934%7C12%7CMCAAMB-1738593934%7Cj8Odv6LonN4r3an7LhD3WZrU1bUpAkFkkiY1ncBR96t2PTI%7CvVersion%7C5.0.1; s_cc=true; panoramaId_expiry=1738075798579; panoramaId=4ee112adaf1205091fe79dc8a245a9fb927a8f0c27ec0a168299d37ba4e637ec; panoramaIdType=panoDevice; ipList=152.58.65.231; __gpi=UID=00000f109b0205a4:T=1726730072:RT=1737993662:S=ALNI_MaHv_kR5B3oLIZ8lkVrVejMVbbScg; __eoi=ID=f7f99cae2c43a618:T=1726730072:RT=1737993662:S=AA-AfjaQeZCiXnzuQw5dADbqKYDQ; __gads=ID=4e600270b86fa326:T=1726730072:RT=1737993661:S=ALNI_MZASkTSP8KDW-AnaDL4cdiZ-2Ofmg; TS016349ac=01f15fc87c3da02d742f23d165a3be243ed9612a539ce6da2fb38799b30fa0698266e96f2f71eac3c1684a172cff794152a380a3aa; JSESSIONID=D407C2917AC44F72A7F125445DAE9018; ipCheck=152.58.65.231; s_sq=%5B%5BB%5D%5D; AWSALBAPP-0=AAAAAAAAAACPbnjs/BLhpK3Ibp6q76qIvwH4Tyc2yJiA+6M30X2vNNKlOSpMvHNP8rMct5nVcvfO2MD448uJDuFmYBlNyTFtYKsdjPNMPvJhInuU7d62VN42hzf/Rwf8C0s/yMbokOiKrMRbBGVpQKGti+mxAD+ZwfAVMMX23bHay71nCXck1GQ0S6fWC6Fj/DCh8TOGfPNrtfeGwp9TuQ==; TSaf720a17029=0807dc117eab2800030f526a9ae9ca7827d298cac58bc43b7b9c71a0b2d6fc151a78f35cd7b52d872b26bd2114cd789e; TS8b476361027=0807dc117eab2000d91413720d9396f0f8c0b7d06cd67da13230ef6975b762088faea920ac77962508e89f8658113000b8b3494812fcf484fdb769816e53156fa3b13986a672b11965e0040bcec828ac3b053ba6a8332b51e4e80badbde001b3; utag_main=v_id:0192091f3ed9001268aeaeebef4a0506f002b06700978$_sn:22$_se:13$_ss:0$_st:1737995742054$vapi_domain:ieeexplore.ieee.org$ses_id:1737992932374%3Bexp-session$_pn:7%3Bexp-session\"\n",
    "\n",
    "}\n",
    "\n",
    "# Payload\n",
    "payload = {\n",
    "    \"newsearch\": True,\n",
    "    \"queryText\": \"Depth Map\",\n",
    "    \"highlight\": True,\n",
    "    \"returnFacets\": [\"ALL\"],\n",
    "    \"returnType\": \"SEARCH\",\n",
    "    \"matchPubs\": True\n",
    "}\n",
    "\n",
    "# Send the POST request using session\n",
    "response = session.post(url, headers=headers, data=json.dumps(payload))\n",
    "\n",
    "if response.status_code == 200:\n",
    "    print(\"Response received successfully:\")\n",
    "    try:\n",
    "        # Parse the JSON response\n",
    "        data = response.json()\n",
    "        print(json.dumps(data, indent=4, ensure_ascii=False))  # Pretty print the JSON response\n",
    "    except json.JSONDecodeError:\n",
    "        print(\"Failed to parse JSON response\")\n",
    "else:\n",
    "    print(f\"Request failed with status code: {response.status_code}\")\n",
    "    print(response.text)  # Print the raw response for debugging\n"
   ]
  },
  {
   "cell_type": "code",
   "execution_count": 35,
   "id": "90f6a73a-d6c0-4580-8254-c82455fe8bbe",
   "metadata": {},
   "outputs": [
    {
     "data": {
      "text/plain": [
       "b''"
      ]
     },
     "execution_count": 35,
     "metadata": {},
     "output_type": "execute_result"
    }
   ],
   "source": [
    "response.content"
   ]
  },
  {
   "cell_type": "code",
   "execution_count": null,
   "id": "c3b3a8ff-c8fe-45f8-babd-4359342b1667",
   "metadata": {},
   "outputs": [],
   "source": []
  }
 ],
 "metadata": {
  "kernelspec": {
   "display_name": "Python 3 (ipykernel)",
   "language": "python",
   "name": "python3"
  },
  "language_info": {
   "codemirror_mode": {
    "name": "ipython",
    "version": 3
   },
   "file_extension": ".py",
   "mimetype": "text/x-python",
   "name": "python",
   "nbconvert_exporter": "python",
   "pygments_lexer": "ipython3",
   "version": "3.10.6"
  }
 },
 "nbformat": 4,
 "nbformat_minor": 5
}
